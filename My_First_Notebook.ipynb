{
  "nbformat": 4,
  "nbformat_minor": 0,
  "metadata": {
    "colab": {
      "name": "My First Notebook",
      "provenance": [],
      "authorship_tag": "ABX9TyMXkX8yrB0vcjWUKApiMsu9",
      "include_colab_link": true
    },
    "kernelspec": {
      "name": "python3",
      "display_name": "Python 3"
    },
    "language_info": {
      "name": "python"
    }
  },
  "cells": [
    {
      "cell_type": "markdown",
      "metadata": {
        "id": "view-in-github",
        "colab_type": "text"
      },
      "source": [
        "<a href=\"https://colab.research.google.com/github/xyxycai/my-notebooks-2022-summer/blob/main/My_First_Notebook.ipynb\" target=\"_parent\"><img src=\"https://colab.research.google.com/assets/colab-badge.svg\" alt=\"Open In Colab\"/></a>"
      ]
    },
    {
      "cell_type": "code",
      "execution_count": null,
      "metadata": {
        "id": "GAOeiP3A4C4o"
      },
      "outputs": [],
      "source": [
        ""
      ]
    },
    {
      "cell_type": "markdown",
      "source": [
        "This is some text\n",
        "\n",
        "We can write Chinese"
      ],
      "metadata": {
        "id": "5g4GNC495J2b"
      }
    },
    {
      "cell_type": "code",
      "source": [
        ""
      ],
      "metadata": {
        "id": "ERo4Be5J8YbO"
      },
      "execution_count": null,
      "outputs": []
    },
    {
      "cell_type": "markdown",
      "source": [
        "# My Heading\n",
        "Cathy Cai\n",
        "## Heading Level 2\n",
        "N14588143\n",
        "\n",
        "\n",
        "This is a link: [link name](www.google.com/)\n",
        "\n",
        "```\n",
        "print(\"HELLO\")\n",
        "```\n"
      ],
      "metadata": {
        "id": "AbqmbEAd5nE-"
      }
    },
    {
      "cell_type": "code",
      "source": [
        "# This is some example Python code\n",
        "# These lines starting with \"#\" are \"comments\"\n",
        "# Remember \"#\" means something different in Markdown than it does in Python\n",
        "\n",
        "print(\"HELLO WORLD!\")\n",
        "\n",
        "x = 2 + 2\n",
        "print(x)"
      ],
      "metadata": {
        "colab": {
          "base_uri": "https://localhost:8080/"
        },
        "id": "XXi3kMfR7Jho",
        "outputId": "faa19918-0647-4d46-d92f-66791faa760d"
      },
      "execution_count": 1,
      "outputs": [
        {
          "output_type": "stream",
          "name": "stdout",
          "text": [
            "HELLO WORLD!\n",
            "4\n"
          ]
        }
      ]
    }
  ]
}