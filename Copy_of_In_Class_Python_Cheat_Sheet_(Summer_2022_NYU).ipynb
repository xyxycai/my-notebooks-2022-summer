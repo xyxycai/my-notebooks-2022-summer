{
  "nbformat": 4,
  "nbformat_minor": 0,
  "metadata": {
    "colab": {
      "name": "Copy of In Class Python Cheat Sheet (Summer 2022 NYU)",
      "provenance": [],
      "collapsed_sections": [],
      "include_colab_link": true
    },
    "kernelspec": {
      "name": "python3",
      "display_name": "Python 3"
    },
    "language_info": {
      "name": "python"
    }
  },
  "cells": [
    {
      "cell_type": "markdown",
      "metadata": {
        "id": "view-in-github",
        "colab_type": "text"
      },
      "source": [
        "<a href=\"https://colab.research.google.com/github/xyxycai/my-notebooks-2022-summer/blob/main/Copy_of_In_Class_Python_Cheat_Sheet_(Summer_2022_NYU).ipynb\" target=\"_parent\"><img src=\"https://colab.research.google.com/assets/colab-badge.svg\" alt=\"Open In Colab\"/></a>"
      ]
    },
    {
      "cell_type": "markdown",
      "source": [
        "# Class 2"
      ],
      "metadata": {
        "id": "__kAG_gWZ1-V"
      }
    },
    {
      "cell_type": "markdown",
      "source": [
        "## Outputs / Printing"
      ],
      "metadata": {
        "id": "8Pvm5bGBbfEz"
      }
    },
    {
      "cell_type": "code",
      "execution_count": null,
      "metadata": {
        "colab": {
          "base_uri": "https://localhost:8080/"
        },
        "id": "LzQdlhAhNJ97",
        "outputId": "50a7a70a-0098-44c2-de9d-9ff6c3ae61ae"
      },
      "outputs": [
        {
          "output_type": "stream",
          "name": "stdout",
          "text": [
            "4\n",
            "6\n"
          ]
        },
        {
          "output_type": "execute_result",
          "data": {
            "text/plain": [
              "100"
            ]
          },
          "metadata": {},
          "execution_count": 5
        }
      ],
      "source": [
        "\n",
        "\n",
        "print(2+2)\n",
        "\n",
        "print(3+3)\n",
        "\n",
        "100"
      ]
    },
    {
      "cell_type": "markdown",
      "source": [
        "## Variables\n",
        "\n",
        "storing values for later reference.\n",
        "\n",
        "can update a variable's value later. it can \"vary\" over time."
      ],
      "metadata": {
        "id": "FFFo7nJtbjSB"
      }
    },
    {
      "cell_type": "code",
      "source": [
        "# variables\n",
        "\n",
        "\n",
        "x = 100\n",
        "\n",
        "y = 50\n",
        "\n",
        "print(x + y)"
      ],
      "metadata": {
        "colab": {
          "base_uri": "https://localhost:8080/"
        },
        "id": "qUvm5k0QO9KG",
        "outputId": "6b4c8b20-057f-4f43-e79c-119fb20d1513"
      },
      "execution_count": null,
      "outputs": [
        {
          "output_type": "stream",
          "name": "stdout",
          "text": [
            "150\n"
          ]
        }
      ]
    },
    {
      "cell_type": "markdown",
      "source": [
        "use contextual variable names (using snake case) so our programs are easier to read and understand:"
      ],
      "metadata": {
        "id": "so3E07o0bpft"
      }
    },
    {
      "cell_type": "code",
      "source": [
        "\n",
        "\n",
        "speed_mph = 60\n",
        "\n",
        "miles = 100\n",
        "\n",
        "print(speed_mph * miles)\n",
        "\n",
        "# conditional\n",
        "\n",
        "if speed_mph > 60:\n",
        "    # only reached if true \n",
        "    print(\"STOP SPEEDING\")\n",
        "else:\n",
        "    # only reached if false\n",
        "    print(\"SPEED LIMIT OK\")"
      ],
      "metadata": {
        "colab": {
          "base_uri": "https://localhost:8080/"
        },
        "id": "RxKihs73PRJ1",
        "outputId": "5624aed8-0b75-4510-fa58-3fdfc8ab0430"
      },
      "execution_count": null,
      "outputs": [
        {
          "output_type": "stream",
          "name": "stdout",
          "text": [
            "6000\n",
            "SPEED LIMIT OK\n"
          ]
        }
      ]
    },
    {
      "cell_type": "markdown",
      "source": [
        ""
      ],
      "metadata": {
        "id": "o7vaEq_QZKup"
      }
    },
    {
      "cell_type": "markdown",
      "source": [
        "## Basic Datatypes"
      ],
      "metadata": {
        "id": "qz-U0xuKbzvq"
      }
    },
    {
      "cell_type": "code",
      "source": [
        "# text inside quotes is a \"string\" datatype / textual message\n",
        "print(\"MY MESSAGE\")"
      ],
      "metadata": {
        "id": "MkCRDWXBRQel"
      },
      "execution_count": null,
      "outputs": []
    },
    {
      "cell_type": "code",
      "source": [
        "STOP SPEEDING"
      ],
      "metadata": {
        "colab": {
          "base_uri": "https://localhost:8080/",
          "height": 131
        },
        "id": "h1c5HoxIRaww",
        "outputId": "8a254b7f-d225-4499-f6a0-c0d01fd45745"
      },
      "execution_count": null,
      "outputs": [
        {
          "output_type": "error",
          "ename": "SyntaxError",
          "evalue": "ignored",
          "traceback": [
            "\u001b[0;36m  File \u001b[0;32m\"<ipython-input-9-8fbba5d5bf70>\"\u001b[0;36m, line \u001b[0;32m1\u001b[0m\n\u001b[0;31m    STOP SPEEDING\u001b[0m\n\u001b[0m                ^\u001b[0m\n\u001b[0;31mSyntaxError\u001b[0m\u001b[0;31m:\u001b[0m invalid syntax\n"
          ]
        }
      ]
    },
    {
      "cell_type": "code",
      "source": [
        "\"STOP SPEEDING\"\n",
        "print(\"STOP SPEEDING\")"
      ],
      "metadata": {
        "colab": {
          "base_uri": "https://localhost:8080/"
        },
        "id": "efmXTImTRg2X",
        "outputId": "41356f0a-a624-4403-f8a0-b5513d5a42e6"
      },
      "execution_count": null,
      "outputs": [
        {
          "output_type": "stream",
          "name": "stdout",
          "text": [
            "STOP SPEEDING\n"
          ]
        }
      ]
    },
    {
      "cell_type": "code",
      "source": [
        "# why do we care about datatypes\n",
        "\n",
        "# the kind of data we're working with...\n",
        "# determines what we can do with that data\n",
        "\n",
        "# numeric datatypes\n",
        "print(2 + 2)\n",
        "\n",
        "print(type(2))\n",
        "print(type(2.5))\n",
        "\n",
        "print(2 + 2.5)"
      ],
      "metadata": {
        "colab": {
          "base_uri": "https://localhost:8080/"
        },
        "id": "AOreYa_cRk7L",
        "outputId": "5c0bca5a-9ef5-4d87-a47b-cd08d9826a41"
      },
      "execution_count": null,
      "outputs": [
        {
          "output_type": "stream",
          "name": "stdout",
          "text": [
            "4\n",
            "<class 'int'>\n",
            "<class 'float'>\n",
            "4.5\n"
          ]
        }
      ]
    },
    {
      "cell_type": "code",
      "source": [
        "print(type(\"HELLO WORLD\"))\n",
        "\n",
        "print(type(\"2\"))\n",
        "print(\"2\")"
      ],
      "metadata": {
        "colab": {
          "base_uri": "https://localhost:8080/"
        },
        "id": "s994SsY4SQ8v",
        "outputId": "b449107d-485a-4aa3-8631-571a60bead76"
      },
      "execution_count": null,
      "outputs": [
        {
          "output_type": "stream",
          "name": "stdout",
          "text": [
            "<class 'str'>\n",
            "<class 'str'>\n",
            "2\n"
          ]
        }
      ]
    },
    {
      "cell_type": "code",
      "source": [
        "# string concatenation (joining together textual messages)\n",
        "print(\"2\" + \"2\")\n",
        "\n",
        "\n",
        "print(\"HELLO\" + \"WORLD\")"
      ],
      "metadata": {
        "colab": {
          "base_uri": "https://localhost:8080/"
        },
        "id": "mVBkoX7lSpYc",
        "outputId": "1facd001-261b-41a4-c49f-f03a9d15957f"
      },
      "execution_count": null,
      "outputs": [
        {
          "output_type": "stream",
          "name": "stdout",
          "text": [
            "22\n",
            "HELLOWORLD\n"
          ]
        }
      ]
    },
    {
      "cell_type": "code",
      "source": [
        "print(2 + \"2\")"
      ],
      "metadata": {
        "colab": {
          "base_uri": "https://localhost:8080/",
          "height": 166
        },
        "id": "J2dCAK4ITIKK",
        "outputId": "08813548-adf9-4d9f-bb05-03d173685ef4"
      },
      "execution_count": null,
      "outputs": [
        {
          "output_type": "error",
          "ename": "TypeError",
          "evalue": "ignored",
          "traceback": [
            "\u001b[0;31m---------------------------------------------------------------------------\u001b[0m",
            "\u001b[0;31mTypeError\u001b[0m                                 Traceback (most recent call last)",
            "\u001b[0;32m<ipython-input-19-96788054896b>\u001b[0m in \u001b[0;36m<module>\u001b[0;34m()\u001b[0m\n\u001b[0;32m----> 1\u001b[0;31m \u001b[0mprint\u001b[0m\u001b[0;34m(\u001b[0m\u001b[0;36m2\u001b[0m \u001b[0;34m+\u001b[0m \u001b[0;34m\"2\"\u001b[0m\u001b[0;34m)\u001b[0m\u001b[0;34m\u001b[0m\u001b[0;34m\u001b[0m\u001b[0m\n\u001b[0m",
            "\u001b[0;31mTypeError\u001b[0m: unsupported operand type(s) for +: 'int' and 'str'"
          ]
        }
      ]
    },
    {
      "cell_type": "markdown",
      "source": [
        "## User Inputs"
      ],
      "metadata": {
        "id": "1Hcsza8NTpxq"
      }
    },
    {
      "cell_type": "markdown",
      "source": [
        "asking the user to input some value (most helpful in local dev / terminal)\n",
        "\n"
      ],
      "metadata": {
        "id": "4la4HjFzcHON"
      }
    },
    {
      "cell_type": "code",
      "source": [
        "x = input(\"Please choose a fav ice cream flavor: \")\n",
        "print(x)"
      ],
      "metadata": {
        "colab": {
          "base_uri": "https://localhost:8080/"
        },
        "id": "jYVjOSCQTrVj",
        "outputId": "7ff8bc79-9bbf-40bc-ef52-93b99a5eae5f"
      },
      "execution_count": null,
      "outputs": [
        {
          "output_type": "stream",
          "name": "stdout",
          "text": [
            "Please choose a fav ice cream flavor: straw\n",
            "straw\n"
          ]
        }
      ]
    },
    {
      "cell_type": "markdown",
      "source": [
        "FYI: resulting value will always be a string!!"
      ],
      "metadata": {
        "id": "O6cXyQmFcNjh"
      }
    },
    {
      "cell_type": "code",
      "source": [
        "product_id = input(\"Select a product id (e.g. 9): \")\n",
        "print(product_id)\n",
        "print(type(product_id))"
      ],
      "metadata": {
        "colab": {
          "base_uri": "https://localhost:8080/"
        },
        "id": "iMOgWD9IcNKN",
        "outputId": "45194691-39a6-43c2-ae82-4c5c3159f82c"
      },
      "execution_count": null,
      "outputs": [
        {
          "output_type": "stream",
          "name": "stdout",
          "text": [
            "Select a product id (e.g. 9): 99\n",
            "99\n",
            "<class 'str'>\n"
          ]
        }
      ]
    },
    {
      "cell_type": "code",
      "source": [
        "# datatype conversion\n",
        "# int()\n",
        "# str()\n",
        "# bool()\n",
        "# list()\n",
        "# dict()\n",
        "\n",
        "new_id = int(product_id)\n",
        "print(new_id)\n",
        "print(type(new_id))"
      ],
      "metadata": {
        "colab": {
          "base_uri": "https://localhost:8080/"
        },
        "id": "Cdm3v7BscbXV",
        "outputId": "c44b14c4-6ca7-4ab0-fb59-5b81d4d087b4"
      },
      "execution_count": null,
      "outputs": [
        {
          "output_type": "stream",
          "name": "stdout",
          "text": [
            "99\n",
            "<class 'int'>\n"
          ]
        }
      ]
    },
    {
      "cell_type": "markdown",
      "source": [
        "# Class 3\n",
        "\n",
        "we weren't the most organized when introducing concepts last class, so let's be more organized, starting below...\n",
        "\n",
        "\n",
        "if you want you can remove the class 2 stuff afterwards."
      ],
      "metadata": {
        "id": "laTh-1Q2Z6JK"
      }
    },
    {
      "cell_type": "markdown",
      "source": [
        "## Outputs"
      ],
      "metadata": {
        "id": "Jmikos83Z8tM"
      }
    },
    {
      "cell_type": "code",
      "source": [
        "print(520)\n",
        "print(2, 4.5, \"hello world\")"
      ],
      "metadata": {
        "id": "j6FPOz_qaFUo",
        "colab": {
          "base_uri": "https://localhost:8080/"
        },
        "outputId": "909fc2d1-3dd7-471f-dd07-521db034f6ff"
      },
      "execution_count": 4,
      "outputs": [
        {
          "output_type": "stream",
          "name": "stdout",
          "text": [
            "520\n",
            "2 4.5 hello world\n"
          ]
        }
      ]
    },
    {
      "cell_type": "markdown",
      "source": [
        "## Variables"
      ],
      "metadata": {
        "id": "5Y5iMVH9aF2y"
      }
    },
    {
      "cell_type": "code",
      "source": [
        "x = 5\n",
        "print (x)"
      ],
      "metadata": {
        "id": "RN2PyMc9aG9k",
        "colab": {
          "base_uri": "https://localhost:8080/"
        },
        "outputId": "7b5bd94c-7e65-41a3-d968-193c09144149"
      },
      "execution_count": 16,
      "outputs": [
        {
          "output_type": "stream",
          "name": "stdout",
          "text": [
            "5\n"
          ]
        }
      ]
    },
    {
      "cell_type": "markdown",
      "source": [
        "Variable assignment uses the single equials sign"
      ],
      "metadata": {
        "id": "vCwOVdtkjgV4"
      }
    },
    {
      "cell_type": "code",
      "source": [
        "y = 2+2\n",
        "print(y)\n",
        "\n",
        "z=10\n",
        "print(z)\n",
        "z=z+100\n",
        "print(z)"
      ],
      "metadata": {
        "colab": {
          "base_uri": "https://localhost:8080/"
        },
        "id": "6sPEuiWijpji",
        "outputId": "bcc23da9-8f49-40c2-b450-ab5445542d8f"
      },
      "execution_count": 22,
      "outputs": [
        {
          "output_type": "stream",
          "name": "stdout",
          "text": [
            "4\n",
            "10\n",
            "110\n"
          ]
        }
      ]
    },
    {
      "cell_type": "markdown",
      "source": [
        "## Inputs"
      ],
      "metadata": {
        "id": "SJ55CJnfaJbJ"
      }
    },
    {
      "cell_type": "code",
      "source": [
        "fav_flav = input(\"what's your favorite flavor?\")\n",
        "print(fav_flav)"
      ],
      "metadata": {
        "id": "G42agvcDaKfV",
        "colab": {
          "base_uri": "https://localhost:8080/"
        },
        "outputId": "1251e791-3bee-4a03-c473-1975b2a952bd"
      },
      "execution_count": 18,
      "outputs": [
        {
          "output_type": "stream",
          "name": "stdout",
          "text": [
            "what's your favorite flavor?vanilla\n",
            "vanilla\n"
          ]
        }
      ]
    },
    {
      "cell_type": "markdown",
      "source": [
        "## Basic Datatypes"
      ],
      "metadata": {
        "id": "33ir_JBmaK2R"
      }
    },
    {
      "cell_type": "markdown",
      "source": [
        "### Numbers\n"
      ],
      "metadata": {
        "id": "BJxggoz3aX2T"
      }
    },
    {
      "cell_type": "code",
      "source": [
        "print(type(2))\n",
        "print(type(2.0))\n",
        "print(type(4.5555))"
      ],
      "metadata": {
        "id": "N_Xeh7_oaZr-",
        "colab": {
          "base_uri": "https://localhost:8080/"
        },
        "outputId": "a269569e-15c5-45b3-9b23-64b3c4eda0d0"
      },
      "execution_count": 26,
      "outputs": [
        {
          "output_type": "stream",
          "name": "stdout",
          "text": [
            "<class 'int'>\n",
            "<class 'float'>\n",
            "<class 'float'>\n"
          ]
        }
      ]
    },
    {
      "cell_type": "markdown",
      "source": [
        "### Strings"
      ],
      "metadata": {
        "id": "F_st_Jj1aZ7L"
      }
    },
    {
      "cell_type": "code",
      "source": [
        "print(\"hello\")\n",
        "\n",
        "message = \"hello\"\n",
        "print(message)\n",
        "\n",
        "print(type(message))"
      ],
      "metadata": {
        "id": "Vzv-vwHdabGC",
        "colab": {
          "base_uri": "https://localhost:8080/"
        },
        "outputId": "af67975c-4225-4712-9dea-1192b0676c43"
      },
      "execution_count": 30,
      "outputs": [
        {
          "output_type": "stream",
          "name": "stdout",
          "text": [
            "hello\n",
            "hello\n",
            "<class 'str'>\n"
          ]
        }
      ]
    },
    {
      "cell_type": "markdown",
      "source": [
        "Joining two stirngs toether (using concatenation or a format string)"
      ],
      "metadata": {
        "id": "oTfozQmDg0mV"
      }
    },
    {
      "cell_type": "markdown",
      "source": [
        "object-oriented programming means the objects have their own capabilities (called methods), for example string case manipulation:"
      ],
      "metadata": {
        "id": "ML7qLt5xabye"
      }
    },
    {
      "cell_type": "code",
      "source": [
        "print(\"hello \"+\"world\")\n",
        "print(\"hello\"+\" \"+\"world\")\n",
        "player_name = \"MJR\"\n",
        "print(\"welcome \" + player_name + \", to my game\")"
      ],
      "metadata": {
        "id": "7zBsyGSAai0X",
        "colab": {
          "base_uri": "https://localhost:8080/"
        },
        "outputId": "be6720c3-0b72-42fd-fdcf-1feca98f5209"
      },
      "execution_count": 8,
      "outputs": [
        {
          "output_type": "stream",
          "name": "stdout",
          "text": [
            "hello world\n",
            "hello world\n",
            "welcome MJR, to my game\n"
          ]
        }
      ]
    },
    {
      "cell_type": "code",
      "source": [
        "print(f\"welcome {player_name}, to my game\")\n",
        "print(\"welcome {player_name}, to my game\")"
      ],
      "metadata": {
        "colab": {
          "base_uri": "https://localhost:8080/"
        },
        "id": "IaisUd2qiJu9",
        "outputId": "977b3092-9485-4427-a7f7-bce95e27855c"
      },
      "execution_count": 10,
      "outputs": [
        {
          "output_type": "stream",
          "name": "stdout",
          "text": [
            "welcome MJR, to my game\n",
            "welcome {player_name}, to my game\n"
          ]
        }
      ]
    },
    {
      "cell_type": "code",
      "source": [
        "# when we pass something into a function, that's \"functional\" programming\n",
        "my_message=\"HELLO WORLD\"\n",
        "print(my_message)\n",
        "\n",
        "# the dir function tells us what capabilities an object has ON IT OWN\n",
        "print(dir(my_message))\n",
        "\n",
        "# some of the capabilities are \"properties\" or nouns\n",
        "# ... that don't require trailing parens\n",
        "\n",
        "# some of the capabilities are \"methods\" or verbs\n",
        "# ... these do require trailing parens\n",
        "# ... methods are like functions\n",
        "# ... if we want to invoke a funcion, we need trailing parens\n",
        "\n",
        "print(my_message.isdecimal())\n",
        "print(my_message.lower())\n",
        "\n",
        "print(my_message.replace(\"HELLO\",\"GOODBYE\"))\n",
        "\n"
      ],
      "metadata": {
        "colab": {
          "base_uri": "https://localhost:8080/"
        },
        "id": "6DYI3YG0lyOa",
        "outputId": "b06cc39c-fd5e-4fa5-c11f-ad17118f75aa"
      },
      "execution_count": 38,
      "outputs": [
        {
          "output_type": "stream",
          "name": "stdout",
          "text": [
            "HELLO WORLD\n",
            "['__add__', '__class__', '__contains__', '__delattr__', '__dir__', '__doc__', '__eq__', '__format__', '__ge__', '__getattribute__', '__getitem__', '__getnewargs__', '__gt__', '__hash__', '__init__', '__init_subclass__', '__iter__', '__le__', '__len__', '__lt__', '__mod__', '__mul__', '__ne__', '__new__', '__reduce__', '__reduce_ex__', '__repr__', '__rmod__', '__rmul__', '__setattr__', '__sizeof__', '__str__', '__subclasshook__', 'capitalize', 'casefold', 'center', 'count', 'encode', 'endswith', 'expandtabs', 'find', 'format', 'format_map', 'index', 'isalnum', 'isalpha', 'isascii', 'isdecimal', 'isdigit', 'isidentifier', 'islower', 'isnumeric', 'isprintable', 'isspace', 'istitle', 'isupper', 'join', 'ljust', 'lower', 'lstrip', 'maketrans', 'partition', 'replace', 'rfind', 'rindex', 'rjust', 'rpartition', 'rsplit', 'rstrip', 'split', 'splitlines', 'startswith', 'strip', 'swapcase', 'title', 'translate', 'upper', 'zfill']\n",
            "False\n",
            "hello world\n",
            "GOODBYE WORLD\n"
          ]
        }
      ]
    },
    {
      "cell_type": "markdown",
      "source": [
        "## Booleans"
      ],
      "metadata": {
        "id": "0IkWozDvakhb"
      }
    },
    {
      "cell_type": "code",
      "source": [
        "# true or false\n",
        "\n",
        "print(True)\n",
        "print(False)"
      ],
      "metadata": {
        "colab": {
          "base_uri": "https://localhost:8080/"
        },
        "id": "xDLRJrpmiIsU",
        "outputId": "8d838db2-8b61-43eb-b734-7d765fd1dbf2"
      },
      "execution_count": 39,
      "outputs": [
        {
          "output_type": "stream",
          "name": "stdout",
          "text": [
            "True\n",
            "False\n"
          ]
        }
      ]
    },
    {
      "cell_type": "code",
      "source": [
        "print(type(True))\n",
        "print(type(False))"
      ],
      "metadata": {
        "colab": {
          "base_uri": "https://localhost:8080/"
        },
        "id": "oZBAX4YtpVvB",
        "outputId": "477e1618-ffd0-40d1-fbbf-80f932593421"
      },
      "execution_count": 40,
      "outputs": [
        {
          "output_type": "stream",
          "name": "stdout",
          "text": [
            "<class 'bool'>\n",
            "<class 'bool'>\n"
          ]
        }
      ]
    },
    {
      "cell_type": "code",
      "source": [
        ""
      ],
      "metadata": {
        "id": "dQUlPyeTanqX"
      },
      "execution_count": null,
      "outputs": []
    },
    {
      "cell_type": "markdown",
      "source": [
        "## Logical Operators"
      ],
      "metadata": {
        "id": "HAZJs3PHaqNt"
      }
    },
    {
      "cell_type": "code",
      "source": [
        ""
      ],
      "metadata": {
        "id": "m9C0jz15argL"
      },
      "execution_count": null,
      "outputs": []
    },
    {
      "cell_type": "code",
      "source": [
        ""
      ],
      "metadata": {
        "id": "n5ovHrQWasJh"
      },
      "execution_count": null,
      "outputs": []
    },
    {
      "cell_type": "code",
      "source": [
        ""
      ],
      "metadata": {
        "id": "nSbC2sfWar__"
      },
      "execution_count": null,
      "outputs": []
    },
    {
      "cell_type": "code",
      "source": [
        ""
      ],
      "metadata": {
        "id": "NF735YqJar4n"
      },
      "execution_count": null,
      "outputs": []
    },
    {
      "cell_type": "code",
      "source": [
        ""
      ],
      "metadata": {
        "id": "EPgElgGDart8"
      },
      "execution_count": null,
      "outputs": []
    },
    {
      "cell_type": "markdown",
      "source": [
        "## Conditionals / IF Statements"
      ],
      "metadata": {
        "id": "5STf7R0zatgU"
      }
    },
    {
      "cell_type": "code",
      "source": [
        "if True:\n",
        "    print(\"YUP\")\n",
        "else:...\n",
        "\n",
        "print(\"BOTTOM\")\n",
        "\n",
        "    "
      ],
      "metadata": {
        "id": "HotvIiieavb9",
        "colab": {
          "base_uri": "https://localhost:8080/"
        },
        "outputId": "20e76cf8-1ac9-470f-b640-c3bfc1fee43f"
      },
      "execution_count": 47,
      "outputs": [
        {
          "output_type": "stream",
          "name": "stdout",
          "text": [
            "YUP\n",
            "BOTTOM\n"
          ]
        }
      ]
    },
    {
      "cell_type": "code",
      "source": [
        "if False:\n",
        "    print(\"YEP\")\n",
        "\n",
        "print(\"BOTTOM\")"
      ],
      "metadata": {
        "colab": {
          "base_uri": "https://localhost:8080/"
        },
        "id": "EyXRPq54qVtU",
        "outputId": "47830eaa-9e3e-413e-e380-a9f19e818963"
      },
      "execution_count": 49,
      "outputs": [
        {
          "output_type": "stream",
          "name": "stdout",
          "text": [
            "BOTTOM\n"
          ]
        }
      ]
    },
    {
      "cell_type": "markdown",
      "source": [
        "## Intermediate / Container Datatypes"
      ],
      "metadata": {
        "id": "HxRAgMr5av8U"
      }
    },
    {
      "cell_type": "markdown",
      "source": [
        "### Lists"
      ],
      "metadata": {
        "id": "CL_Ou4h7ayLA"
      }
    },
    {
      "cell_type": "code",
      "source": [
        ""
      ],
      "metadata": {
        "id": "V26XxPgva0An"
      },
      "execution_count": null,
      "outputs": []
    },
    {
      "cell_type": "markdown",
      "source": [
        "### Dictionaries"
      ],
      "metadata": {
        "id": "Id0Gmq9Wa0QQ"
      }
    },
    {
      "cell_type": "code",
      "source": [
        ""
      ],
      "metadata": {
        "id": "TLQ-sLOZa1x4"
      },
      "execution_count": null,
      "outputs": []
    }
  ]
}